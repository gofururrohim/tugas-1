{
  "nbformat": 4,
  "nbformat_minor": 0,
  "metadata": {
    "colab": {
      "provenance": [],
      "authorship_tag": "ABX9TyM1LvFgaHmOy6ftWL+k5FGZ",
      "include_colab_link": true
    },
    "kernelspec": {
      "name": "python3",
      "display_name": "Python 3"
    },
    "language_info": {
      "name": "python"
    }
  },
  "cells": [
    {
      "cell_type": "markdown",
      "metadata": {
        "id": "view-in-github",
        "colab_type": "text"
      },
      "source": [
        "<a href=\"https://colab.research.google.com/github/gofururrohim/tugas-1/blob/main/variabel_dan_tipe_data.ipynb\" target=\"_parent\"><img src=\"https://colab.research.google.com/assets/colab-badge.svg\" alt=\"Open In Colab\"/></a>"
      ]
    },
    {
      "cell_type": "markdown",
      "source": [
        "# **pengertian variabel dan tipe data**\n",
        "- variabel merupakan tempat menyimpan data, sedangkan tipe data adalah jenis data yang tersimpan dalam variabel\n",
        "- Ada beberapa aturan penulisan variabel, misalnya:\n",
        "  1. Nama variabel harus diawali dengan huruf atau garis bawah (_).\n",
        "  2. Nama variabel bersifat case-sensitive, jadi variabel_ku dan Variabel_ku dianggap sebagai dua variabel yang berbeda.\n",
        "  3. Tidak boleh menggunakan kata kunci yang sudah ada di Python seperti if, while, atau for.\n",
        "- menghapus variabel dapat dilakukan dengan fungsi del().\n",
        "- jenis tipe data\n",
        "  1. Tipe Data Angka: Dibagi menjadi dua jenis utama:\n",
        "    - int: untuk bilangan bulat seperti 32, 22, 12.\n",
        "    - float: untuk bilangan desimal seperti 1.3, 4.2.\n",
        "  2. Tipe Data Teks: Ada dua jenis:\n",
        "    - char: karakter tunggal seperti 'R'.\n",
        "    - string: kumpulan karakter seperti \"aku lagi makan\"\n",
        "  3. Tipe Data Boolean: Hanya memiliki dua nilai yaitu True atau False. Nilai True dan False ditulis dengan huruf kapital tanpa tanda petik. Sebagai contoh: bergerak = True.\n",
        "- fungsi fungsi untuk mengubah tipe data\n",
        "  1.  int(): untuk mengubah menjadi integer.\n",
        "  2.  float(): untuk mengubah menjadi float.\n",
        "  3.  bool(): untuk mengubah menjadi boolean.\n",
        "  4.  str(): untuk mengubah menjadi string.\n",
        "  5.  bin(): untuk mengubah menjadi bilangan biner.\n",
        "  6.  hex(): untuk mengubah menjadi bilangan heksadesimal.\n",
        "\n"
      ],
      "metadata": {
        "id": "lYFK9GPp1Aq1"
      }
    }
  ]
}