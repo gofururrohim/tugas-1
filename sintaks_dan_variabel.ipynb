{
  "nbformat": 4,
  "nbformat_minor": 0,
  "metadata": {
    "colab": {
      "provenance": [],
      "authorship_tag": "ABX9TyPQO5sIe3xc4jlUmBPZsT/u",
      "include_colab_link": true
    },
    "kernelspec": {
      "name": "python3",
      "display_name": "Python 3"
    },
    "language_info": {
      "name": "python"
    }
  },
  "cells": [
    {
      "cell_type": "markdown",
      "metadata": {
        "id": "view-in-github",
        "colab_type": "text"
      },
      "source": [
        "<a href=\"https://colab.research.google.com/github/gofururrohim/tugas-1/blob/main/sintaks_dan_variabel.ipynb\" target=\"_parent\"><img src=\"https://colab.research.google.com/assets/colab-badge.svg\" alt=\"Open In Colab\"/></a>"
      ]
    },
    {
      "cell_type": "markdown",
      "source": [
        "# **sintaks dan variabel**\n",
        "- Pengambilan Input dari Keyboard\n",
        "  1. input(): Digunakan untuk mengambil input berupa angka.\n",
        "  2. raw_input(): Digunakan untuk mengambil input berupa teks.\n",
        "\n",
        "\n"
      ],
      "metadata": {
        "id": "Qe7zXy6a86FD"
      }
    },
    {
      "cell_type": "code",
      "source": [
        "nama = input(\"Siapa nama kamu: \")\n",
        "umur = input(\"Berapa umur kamu: \")\n",
        "print (\"Hello \" + nama + \" umur kamu adalah \" + umur + \" tahun\")"
      ],
      "metadata": {
        "id": "YmBb-eTH-V3g"
      },
      "execution_count": null,
      "outputs": []
    },
    {
      "cell_type": "markdown",
      "source": [
        "- Menampilkan Output\n",
        "  1. Menggunakan koma: Secara otomatis akan memberikan spasi antara teks dan variabel.\n",
        "  2. Menggunakan tambah (+): Harus memastikan sendiri adanya spasi, jika diperlukan."
      ],
      "metadata": {
        "id": "8yePSAMBBuVN"
      }
    },
    {
      "cell_type": "code",
      "source": [
        "nama = \"Ucup\"\n",
        "print(\"Hello\", nama)\n",
        "print(\"Hello \" + nama)"
      ],
      "metadata": {
        "id": "PCOo9KQXCgql"
      },
      "execution_count": null,
      "outputs": []
    },
    {
      "cell_type": "markdown",
      "source": [
        "- Penggunaan Format String"
      ],
      "metadata": {
        "id": "aATYaADZDF63"
      }
    },
    {
      "cell_type": "code",
      "source": [
        "# Python menyediakan metode format() untuk menggabungkan teks dengan variabel. Misalnya:\n",
        "nama = input(\"Nama: \")\n",
        "print(\"Hello, {} apa kabar?\".format(nama))\n"
      ],
      "metadata": {
        "id": "c5kpIl45DVBh"
      },
      "execution_count": null,
      "outputs": []
    },
    {
      "cell_type": "markdown",
      "source": [
        "- String Formatting Cara Lama\n",
        "  1. Sebelum ada metode format(), Python menggunakan simbol persen (%) untuk menggabungkan teks dan variabel.\n",
        "  2. Simbol %s digunakan untuk menggabungkan teks dengan variabel string. Ada juga %d untuk angka desimal dan %f untuk bilangan pecahan."
      ],
      "metadata": {
        "id": "peesreBnECO4"
      }
    },
    {
      "cell_type": "code",
      "source": [
        "nama = input(\"Inputkan nama: \")\n",
        "umur = int(input(\"Inputkan umur: \"))\n",
        "tinggi = float(input(\"Inputkan tinggi badan: \"))\n",
        "\n",
        "print(\"Hello %s, usiamu %d tahun dan tinggi badanmu %f cm\" % (nama, umur, tinggi))\n"
      ],
      "metadata": {
        "id": "XYN3sapBDl-j"
      },
      "execution_count": null,
      "outputs": []
    }
  ]
}