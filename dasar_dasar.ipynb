{
  "nbformat": 4,
  "nbformat_minor": 0,
  "metadata": {
    "colab": {
      "provenance": [],
      "authorship_tag": "ABX9TyNTIxGswDozAeH56+rAMOsi",
      "include_colab_link": true
    },
    "kernelspec": {
      "name": "python3",
      "display_name": "Python 3"
    },
    "language_info": {
      "name": "python"
    }
  },
  "cells": [
    {
      "cell_type": "markdown",
      "metadata": {
        "id": "view-in-github",
        "colab_type": "text"
      },
      "source": [
        "<a href=\"https://colab.research.google.com/github/gofururrohim/tugas-1/blob/main/dasar_dasar.ipynb\" target=\"_parent\"><img src=\"https://colab.research.google.com/assets/colab-badge.svg\" alt=\"Open In Colab\"/></a>"
      ]
    },
    {
      "cell_type": "code",
      "execution_count": null,
      "metadata": {
        "id": "1LnV3NhpsaRU"
      },
      "outputs": [],
      "source": []
    },
    {
      "cell_type": "markdown",
      "source": [
        "#**dasar dasar pemrograman**\n",
        "- pemrograman adalah proses membuat intruksi untuk komputer\n",
        "- Variabel adalah tempat untuk menyimpan data atau nilai yang dapat digunakan dan dimanipulasi dalam program\n",
        "- tipe data adalah jenis data yang bisa disimpan dalam variabel\n",
        "- jenis tipe data yaitu int, float, string, boolean\n",
        "- operator digunakan untuk melakukan operasi oada variabel dan nilai.\n",
        "- jenis jenis operator\n",
        "  1.   aritmatika : +, -, *, /, %\n",
        "  2.   perbandingan : ==, !=, >, <, >=, <=\n",
        "  3.   logika : and, or, not\n",
        "- if-else adalah perkondisian yang mengatur alur program berdasarkan kondisi tertentu\n",
        "- loop adalah perulangan yang digunakan untuk mengulang blok kode beberapa kali\n",
        "- logika pemrograman adalah urutan langkah langkah yang sistematis untuk menyelesaikan masalah\n",
        "\n",
        "\n",
        "\n",
        "\n",
        "\n",
        "\n"
      ],
      "metadata": {
        "id": "l5DDIEpJuE0P"
      }
    }
  ]
}