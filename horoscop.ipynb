{
  "nbformat": 4,
  "nbformat_minor": 0,
  "metadata": {
    "colab": {
      "provenance": [],
      "authorship_tag": "ABX9TyNA8+73XQWY1xMcy9lCk2KX",
      "include_colab_link": true
    },
    "kernelspec": {
      "name": "python3",
      "display_name": "Python 3"
    },
    "language_info": {
      "name": "python"
    }
  },
  "cells": [
    {
      "cell_type": "markdown",
      "metadata": {
        "id": "view-in-github",
        "colab_type": "text"
      },
      "source": [
        "<a href=\"https://colab.research.google.com/github/gofururrohim/tugas-1/blob/main/horoscop.ipynb\" target=\"_parent\"><img src=\"https://colab.research.google.com/assets/colab-badge.svg\" alt=\"Open In Colab\"/></a>"
      ]
    },
    {
      "cell_type": "code",
      "execution_count": 1,
      "metadata": {
        "colab": {
          "base_uri": "https://localhost:8080/"
        },
        "id": "LFVArCb_URry",
        "outputId": "cd1b1b77-72c3-49da-8013-44534c6ae62b"
      },
      "outputs": [
        {
          "output_type": "stream",
          "name": "stdout",
          "text": [
            "Masukkan nama mu: gofur\n",
            "Masukkan umur mu: 17\n",
            "Masukkan tempat tinggal mu: jakarta\n",
            "gofur dan umur saya adalah 17 saya tinggal di jakarta\n"
          ]
        }
      ],
      "source": [
        "nama_saya = input(\"Masukkan nama mu: \")\n",
        "umur = input(\"Masukkan umur mu: \")\n",
        "tinggal = input(\"Masukkan tempat tinggal mu: \")\n",
        "hasil = nama_saya + \" dan umur saya adalah \" + umur + \" saya tinggal di \" + tinggal\n",
        "print(hasil)"
      ]
    }
  ]
}