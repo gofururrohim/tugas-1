{
  "nbformat": 4,
  "nbformat_minor": 0,
  "metadata": {
    "colab": {
      "provenance": [],
      "authorship_tag": "ABX9TyMgpsle56UxKVE0GeTkDWHt",
      "include_colab_link": true
    },
    "kernelspec": {
      "name": "python3",
      "display_name": "Python 3"
    },
    "language_info": {
      "name": "python"
    }
  },
  "cells": [
    {
      "cell_type": "markdown",
      "metadata": {
        "id": "view-in-github",
        "colab_type": "text"
      },
      "source": [
        "<a href=\"https://colab.research.google.com/github/gofururrohim/tugas-1/blob/main/operator_dibahasa_python.ipynb\" target=\"_parent\"><img src=\"https://colab.research.google.com/assets/colab-badge.svg\" alt=\"Open In Colab\"/></a>"
      ]
    },
    {
      "cell_type": "markdown",
      "source": [
        "# **operator di bahasa python**\n",
        "- operator adalah simbol yang digunakan untuk melakukan operasi pada variabel dan nilai\n",
        "- operator aritmatika digunakan untuk melakukan operasi matimatika dasar deperti penjumlahan, pengurangan, perkalian, pembagian, dan sebagainya\n",
        "- operator perbandingan digunakan untuk membandingkan dua nilai atau variabel dan menghasilkan nilai true atau false\n",
        "- operator logika digunakan untuk menggabungkan pernyataan pernyataan logis\n",
        "- operator penugasan adalah operator yang digunakan untuk memberikan nilai ke variabel\n",
        "- operator bitwise adalah operator yang digunakan untuk melakukan operasi pada level bit. contoh: &, !, ^, ~, <<, >>\n",
        "- operator keanggotaan digunakan untuk memeriksa apakah suatu nilai terdapat dalam sebuah kumpulan data. contoh: in, not in\n",
        "- operator indentitas adalah operator yang digunakan untuk memerikasa apakah dua objek adalah objek yang sama di memori. contoh: is, is not\n",
        "\n",
        "\n",
        "\n"
      ],
      "metadata": {
        "id": "MPCW8K65xn43"
      }
    }
  ]
}